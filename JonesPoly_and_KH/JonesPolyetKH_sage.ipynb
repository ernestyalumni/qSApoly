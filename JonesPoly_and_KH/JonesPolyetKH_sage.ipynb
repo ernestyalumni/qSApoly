{
 "cells": [
  {
   "cell_type": "markdown",
   "metadata": {},
   "source": [
    "# Jones Polynomial and Khovanov Homology, using Sage Math\n",
    "> This jupyter notebook needs Sage Math; I'm running SageMath 7.1"
   ]
  },
  {
   "cell_type": "code",
   "execution_count": 1,
   "metadata": {
    "collapsed": false
   },
   "outputs": [],
   "source": [
    "from kh_scrape import scrape_bat\n",
    "Tknots14 = scrape_bat('khTknotsless14')"
   ]
  },
  {
   "cell_type": "markdown",
   "metadata": {},
   "source": [
    "At this point, in Sage Math, one may need to declare the variables `t` and `q` (if one hasn't done so, already).  One could try to declare them as generators of a *polynomial ring* or simply use `var` (EY: 20160503 I'm not sure what's the best practice; please let me know. Also with the polynomial ring, I'm not sure which field to use; I'll use the rationals first, `QQ` in Sage Math, and possibly one should try the complex numbers `CC` (with limited precision, because computers calculate in floats) or real numbers `RR`).  I'll do the **Polynomial Ring** below:"
   ]
  },
  {
   "cell_type": "code",
   "execution_count": 4,
   "metadata": {
    "collapsed": true
   },
   "outputs": [],
   "source": [
    "PolyRing_QQ_qt = PolynomialRing(QQ,'q,t',2)\n",
    "# one can also do the below; the problem with this syntax is when someone wants to \n",
    "# write functions or classes on top of this\n",
    "# PolyRing_QQ_qt.<q,t> = PolynomialRing(QQ,2)"
   ]
  },
  {
   "cell_type": "code",
   "execution_count": 6,
   "metadata": {
    "collapsed": true
   },
   "outputs": [],
   "source": [
    "PolyRing_QQ_qt.<q,t> = PolynomialRing(QQ,2)"
   ]
  },
  {
   "cell_type": "code",
   "execution_count": 7,
   "metadata": {
    "collapsed": false
   },
   "outputs": [],
   "source": [
    "Tknots14sage = [ sage_eval(line,locals={'x1':t, 'x2':q}) for line in Tknots14]"
   ]
  },
  {
   "cell_type": "code",
   "execution_count": 8,
   "metadata": {
    "collapsed": false
   },
   "outputs": [
    {
     "data": {
      "text/plain": [
       "(q^2 + 1)/q"
      ]
     },
     "execution_count": 8,
     "metadata": {},
     "output_type": "execute_result"
    }
   ],
   "source": [
    "Tknots14sage[0]"
   ]
  },
  {
   "cell_type": "code",
   "execution_count": 9,
   "metadata": {
    "collapsed": false
   },
   "outputs": [
    {
     "data": {
      "text/plain": [
       "q \\cdot (q^{2} + 1) \\cdot (q^{6} t^{3} + q^{4} t^{2} + 1)"
      ]
     },
     "execution_count": 9,
     "metadata": {},
     "output_type": "execute_result"
    }
   ],
   "source": [
    "latex(Tknots14sage[1].factor())"
   ]
  },
  {
   "cell_type": "markdown",
   "metadata": {},
   "source": [
    "$q \\cdot (q^{2} + 1) \\cdot (q^{6} t^{3} + q^{4} t^{2} + 1)$\n",
    "\n"
   ]
  },
  {
   "cell_type": "markdown",
   "metadata": {},
   "source": [
    "If you want to plug in values for `q,t` you can't simply do substitute module `.subs`: `q,t` in the *polynomial ring* are not variables (i.e. you didn't declare them with `var`; e.g. `q = var('q')`.  See this page, [Evaluation of multivariate functions](http://doc.sagemath.org/html/en/constructions/polynomials.html#evaluation-of-multivariate-functions) and so we \"evaluate\" the polynomials \"by the arguments\" in the parentheses:"
   ]
  },
  {
   "cell_type": "code",
   "execution_count": 10,
   "metadata": {
    "collapsed": false
   },
   "outputs": [
    {
     "data": {
      "text/plain": [
       "q^{9} + 2 q^{7} + q^{5} + q^{3} + q"
      ]
     },
     "execution_count": 10,
     "metadata": {},
     "output_type": "execute_result"
    }
   ],
   "source": [
    "Tknots14sage[1](t=1); latex(Tknots14sage[1](t=1))"
   ]
  },
  {
   "cell_type": "markdown",
   "metadata": {},
   "source": [
    "$q^{9} + 2 q^{7} + q^{5} + q^{3} + q$"
   ]
  },
  {
   "cell_type": "code",
   "execution_count": 11,
   "metadata": {
    "collapsed": false
   },
   "outputs": [
    {
     "data": {
      "text/plain": [
       "q * (q^2 + 1) * (q^6 + q^4 + 1)"
      ]
     },
     "execution_count": 11,
     "metadata": {},
     "output_type": "execute_result"
    }
   ],
   "source": [
    "Tknots14sage[1](t=1).factor()"
   ]
  },
  {
   "cell_type": "code",
   "execution_count": 12,
   "metadata": {
    "collapsed": false
   },
   "outputs": [
    {
     "data": {
      "text/plain": [
       "((1/2*I*sqrt(3) + 1/2)^2 + 1)/(1/2*I*sqrt(3) + 1/2)"
      ]
     },
     "execution_count": 12,
     "metadata": {},
     "output_type": "execute_result"
    }
   ],
   "source": [
    "Tknots14sage[0](q=e**(2*pi*I/6)).simplify()"
   ]
  },
  {
   "cell_type": "markdown",
   "metadata": {},
   "source": [
    "## For all Torus knots of less than 14 crossings: The Jones polynomial with Khovanov Homology "
   ]
  },
  {
   "cell_type": "code",
   "execution_count": 13,
   "metadata": {
    "collapsed": false
   },
   "outputs": [
    {
     "name": "stdout",
     "output_type": "stream",
     "text": [
      "(q^2 + 1)/q\n",
      "q^9*t^3 + q^7*t^3 + q^7*t^2 + q^5*t^2 + q^3 + q\n",
      "q^15*t^5 + q^13*t^5 + q^13*t^4 + q^11*t^4 + q^11*t^3 + q^9*t^3 + q^9*t^2 + q^7*t^2 + q^5 + q^3\n",
      "q^21*t^7 + q^19*t^7 + q^19*t^6 + q^17*t^6 + q^17*t^5 + q^15*t^5 + q^15*t^4 + q^13*t^4 + q^13*t^3 + q^11*t^3 + q^11*t^2 + q^9*t^2 + q^7 + q^5\n",
      "q^27*t^9 + q^25*t^9 + q^25*t^8 + q^23*t^8 + q^23*t^7 + q^21*t^7 + q^21*t^6 + q^19*t^6 + q^19*t^5 + q^17*t^5 + q^17*t^4 + q^15*t^4 + q^15*t^3 + q^13*t^3 + q^13*t^2 + q^11*t^2 + q^9 + q^7\n",
      "q^33*t^11 + q^31*t^11 + q^31*t^10 + q^29*t^10 + q^29*t^9 + q^27*t^9 + q^27*t^8 + q^25*t^8 + q^25*t^7 + q^23*t^7 + q^23*t^6 + q^21*t^6 + q^21*t^5 + q^19*t^5 + q^19*t^4 + q^17*t^4 + q^17*t^3 + q^15*t^3 + q^15*t^2 + q^13*t^2 + q^11 + q^9\n",
      "q^39*t^13 + q^37*t^13 + q^37*t^12 + q^35*t^12 + q^35*t^11 + q^33*t^11 + q^33*t^10 + q^31*t^10 + q^31*t^9 + q^29*t^9 + q^29*t^8 + q^27*t^8 + q^27*t^7 + q^25*t^7 + q^25*t^6 + q^23*t^6 + q^23*t^5 + q^21*t^5 + q^21*t^4 + q^19*t^4 + q^19*t^3 + q^17*t^3 + q^17*t^2 + q^15*t^2 + q^13 + q^11\n",
      "q^17*t^5 + q^15*t^5 + q^13*t^4 + q^13*t^3 + q^11*t^4 + q^11*t^3 + q^11*t^2 + q^9*t^2 + q^7 + q^5\n",
      "q^21*t^7 + q^19*t^7 + q^19*t^6 + q^19*t^5 + q^17*t^6 + q^17*t^5 + q^15*t^4 + q^15*t^3 + q^13*t^4 + q^13*t^3 + q^13*t^2 + q^11*t^2 + q^9 + q^7\n"
     ]
    }
   ],
   "source": [
    "for i in range(len(Tknots14sage)): print Tknots14sage[i]"
   ]
  },
  {
   "cell_type": "code",
   "execution_count": 26,
   "metadata": {
    "collapsed": false
   },
   "outputs": [
    {
     "name": "stdout",
     "output_type": "stream",
     "text": [
      "(q^2 + 1)/q \n",
      "\\frac{q^{2} + 1}{q}\n",
      "q^9*t^3 + q^7*t^3 + q^7*t^2 + q^5*t^2 + q^3 + q \n",
      "q^{9} t^{3} + q^{7} t^{3} + q^{7} t^{2} + q^{5} t^{2} + q^{3} + q\n",
      "q^15*t^5 + q^13*t^5 + q^13*t^4 + q^11*t^4 + q^11*t^3 + q^9*t^3 + q^9*t^2 + q^7*t^2 + q^5 + q^3 \n",
      "q^{15} t^{5} + q^{13} t^{5} + q^{13} t^{4} + q^{11} t^{4} + q^{11} t^{3} + q^{9} t^{3} + q^{9} t^{2} + q^{7} t^{2} + q^{5} + q^{3}\n",
      "q^21*t^7 + q^19*t^7 + q^19*t^6 + q^17*t^6 + q^17*t^5 + q^15*t^5 + q^15*t^4 + q^13*t^4 + q^13*t^3 + q^11*t^3 + q^11*t^2 + q^9*t^2 + q^7 + q^5 \n",
      "q^{21} t^{7} + q^{19} t^{7} + q^{19} t^{6} + q^{17} t^{6} + q^{17} t^{5} + q^{15} t^{5} + q^{15} t^{4} + q^{13} t^{4} + q^{13} t^{3} + q^{11} t^{3} + q^{11} t^{2} + q^{9} t^{2} + q^{7} + q^{5}\n",
      "q^27*t^9 + q^25*t^9 + q^25*t^8 + q^23*t^8 + q^23*t^7 + q^21*t^7 + q^21*t^6 + q^19*t^6 + q^19*t^5 + q^17*t^5 + q^17*t^4 + q^15*t^4 + q^15*t^3 + q^13*t^3 + q^13*t^2 + q^11*t^2 + q^9 + q^7 \n",
      "q^{27} t^{9} + q^{25} t^{9} + q^{25} t^{8} + q^{23} t^{8} + q^{23} t^{7} + q^{21} t^{7} + q^{21} t^{6} + q^{19} t^{6} + q^{19} t^{5} + q^{17} t^{5} + q^{17} t^{4} + q^{15} t^{4} + q^{15} t^{3} + q^{13} t^{3} + q^{13} t^{2} + q^{11} t^{2} + q^{9} + q^{7}\n",
      "q^33*t^11 + q^31*t^11 + q^31*t^10 + q^29*t^10 + q^29*t^9 + q^27*t^9 + q^27*t^8 + q^25*t^8 + q^25*t^7 + q^23*t^7 + q^23*t^6 + q^21*t^6 + q^21*t^5 + q^19*t^5 + q^19*t^4 + q^17*t^4 + q^17*t^3 + q^15*t^3 + q^15*t^2 + q^13*t^2 + q^11 + q^9 \n",
      "q^{33} t^{11} + q^{31} t^{11} + q^{31} t^{10} + q^{29} t^{10} + q^{29} t^{9} + q^{27} t^{9} + q^{27} t^{8} + q^{25} t^{8} + q^{25} t^{7} + q^{23} t^{7} + q^{23} t^{6} + q^{21} t^{6} + q^{21} t^{5} + q^{19} t^{5} + q^{19} t^{4} + q^{17} t^{4} + q^{17} t^{3} + q^{15} t^{3} + q^{15} t^{2} + q^{13} t^{2} + q^{11} + q^{9}\n",
      "q^39*t^13 + q^37*t^13 + q^37*t^12 + q^35*t^12 + q^35*t^11 + q^33*t^11 + q^33*t^10 + q^31*t^10 + q^31*t^9 + q^29*t^9 + q^29*t^8 + q^27*t^8 + q^27*t^7 + q^25*t^7 + q^25*t^6 + q^23*t^6 + q^23*t^5 + q^21*t^5 + q^21*t^4 + q^19*t^4 + q^19*t^3 + q^17*t^3 + q^17*t^2 + q^15*t^2 + q^13 + q^11 \n",
      "q^{39} t^{13} + q^{37} t^{13} + q^{37} t^{12} + q^{35} t^{12} + q^{35} t^{11} + q^{33} t^{11} + q^{33} t^{10} + q^{31} t^{10} + q^{31} t^{9} + q^{29} t^{9} + q^{29} t^{8} + q^{27} t^{8} + q^{27} t^{7} + q^{25} t^{7} + q^{25} t^{6} + q^{23} t^{6} + q^{23} t^{5} + q^{21} t^{5} + q^{21} t^{4} + q^{19} t^{4} + q^{19} t^{3} + q^{17} t^{3} + q^{17} t^{2} + q^{15} t^{2} + q^{13} + q^{11}\n",
      "q^17*t^5 + q^15*t^5 + q^13*t^4 + q^13*t^3 + q^11*t^4 + q^11*t^3 + q^11*t^2 + q^9*t^2 + q^7 + q^5 \n",
      "q^{17} t^{5} + q^{15} t^{5} + q^{13} t^{4} + q^{13} t^{3} + q^{11} t^{4} + q^{11} t^{3} + q^{11} t^{2} + q^{9} t^{2} + q^{7} + q^{5}\n",
      "q^21*t^7 + q^19*t^7 + q^19*t^6 + q^19*t^5 + q^17*t^6 + q^17*t^5 + q^15*t^4 + q^15*t^3 + q^13*t^4 + q^13*t^3 + q^13*t^2 + q^11*t^2 + q^9 + q^7 \n",
      "q^{21} t^{7} + q^{19} t^{7} + q^{19} t^{6} + q^{19} t^{5} + q^{17} t^{6} + q^{17} t^{5} + q^{15} t^{4} + q^{15} t^{3} + q^{13} t^{4} + q^{13} t^{3} + q^{13} t^{2} + q^{11} t^{2} + q^{9} + q^{7}\n"
     ]
    }
   ],
   "source": [
    "for i in range(len(Tknots14sage)): print Tknots14sage[i], '\\n', latex(Tknots14sage[i])"
   ]
  },
  {
   "cell_type": "markdown",
   "metadata": {},
   "source": [
    "$\\frac{q^{2} + 1}{q}$  \n",
    "$q^{9} t^{3} + q^{7} t^{3} + q^{7} t^{2} + q^{5} t^{2} + q^{3} + q$  \n",
    "$q^{15} t^{5} + q^{13} t^{5} + q^{13} t^{4} + q^{11} t^{4} + q^{11} t^{3} + q^{9} t^{3} + q^{9} t^{2} + q^{7} t^{2} + q^{5} + q^{3}$  \n",
    "$q^{21} t^{7} + q^{19} t^{7} + q^{19} t^{6} + q^{17} t^{6} + q^{17} t^{5} + q^{15} t^{5} + q^{15} t^{4} + q^{13} t^{4} + q^{13} t^{3} + q^{11} t^{3} + q^{11} t^{2} + q^{9} t^{2} + q^{7} + q^{5}$  \n",
    "$q^{27} t^{9} + q^{25} t^{9} + q^{25} t^{8} + q^{23} t^{8} + q^{23} t^{7} + q^{21} t^{7} + q^{21} t^{6} + q^{19} t^{6} + q^{19} t^{5} + q^{17} t^{5} + q^{17} t^{4} + q^{15} t^{4} + q^{15} t^{3} + q^{13} t^{3} + q^{13} t^{2} + q^{11} t^{2} + q^{9} + q^{7}$  \n",
    "$q^{33} t^{11} + q^{31} t^{11} + q^{31} t^{10} + q^{29} t^{10} + q^{29} t^{9} + q^{27} t^{9} + q^{27} t^{8} + q^{25} t^{8} + q^{25} t^{7} + q^{23} t^{7} + q^{23} t^{6} + q^{21} t^{6} + q^{21} t^{5} + q^{19} t^{5} + q^{19} t^{4} + q^{17} t^{4} + q^{17} t^{3} + q^{15} t^{3} + q^{15} t^{2} + q^{13} t^{2} + q^{11} + q^{9}$  \n",
    "$q^{39} t^{13} + q^{37} t^{13} + q^{37} t^{12} + q^{35} t^{12} + q^{35} t^{11} + q^{33} t^{11} + q^{33} t^{10} + q^{31} t^{10} + q^{31} t^{9} + q^{29} t^{9} + q^{29} t^{8} + q^{27} t^{8} + q^{27} t^{7} + q^{25} t^{7} + q^{25} t^{6} + q^{23} t^{6} + q^{23} t^{5} + q^{21} t^{5} + q^{21} t^{4} + q^{19} t^{4} + q^{19} t^{3} + q^{17} t^{3} + q^{17} t^{2} + q^{15} t^{2} + q^{13} + q^{11}$  \n",
    "$q^{17} t^{5} + q^{15} t^{5} + q^{13} t^{4} + q^{13} t^{3} + q^{11} t^{4} + q^{11} t^{3} + q^{11} t^{2} + q^{9} t^{2} + q^{7} + q^{5}$  \n",
    "$q^{21} t^{7} + q^{19} t^{7} + q^{19} t^{6} + q^{19} t^{5} + q^{17} t^{6} + q^{17} t^{5} + q^{15} t^{4} + q^{15} t^{3} + q^{13} t^{4} + q^{13} t^{3} + q^{13} t^{2} + q^{11} t^{2} + q^{9} + q^{7}$"
   ]
  },
  {
   "cell_type": "code",
   "execution_count": null,
   "metadata": {
    "collapsed": true
   },
   "outputs": [],
   "source": []
  }
 ],
 "metadata": {
  "kernelspec": {
   "display_name": "SageMath 7.1",
   "language": "",
   "name": "sagemath"
  },
  "language_info": {
   "codemirror_mode": {
    "name": "ipython",
    "version": 2
   },
   "file_extension": ".py",
   "mimetype": "text/x-python",
   "name": "python",
   "nbconvert_exporter": "python",
   "pygments_lexer": "ipython2",
   "version": "2.7.10"
  }
 },
 "nbformat": 4,
 "nbformat_minor": 0
}
