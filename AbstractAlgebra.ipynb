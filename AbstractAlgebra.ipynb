{
 "cells": [
  {
   "cell_type": "markdown",
   "metadata": {},
   "source": [
    "# Rings"
   ]
  },
  {
   "cell_type": "code",
   "execution_count": 1,
   "metadata": {
    "collapsed": true
   },
   "outputs": [],
   "source": [
    "RRing = Rings()"
   ]
  },
  {
   "cell_type": "code",
   "execution_count": 2,
   "metadata": {
    "collapsed": false
   },
   "outputs": [
    {
     "data": {
      "text/plain": [
       "['AdditiveAssociative',\n",
       " 'AdditiveCommutative',\n",
       " 'AdditiveInverse',\n",
       " 'AdditiveUnital',\n",
       " 'Algebras',\n",
       " 'Associative',\n",
       " 'CartesianProducts',\n",
       " 'Commutative',\n",
       " 'Distributive',\n",
       " 'Division',\n",
       " 'ElementMethods',\n",
       " 'Endsets',\n",
       " 'Facade',\n",
       " 'Facades',\n",
       " 'Finite',\n",
       " 'FinitelyGenerated',\n",
       " 'FinitelyGeneratedAsMagma',\n",
       " 'Homsets',\n",
       " 'Infinite',\n",
       " 'Inverse',\n",
       " 'IsomorphicObjects',\n",
       " 'Metric',\n",
       " 'NoZeroDivisors',\n",
       " 'ParentMethods',\n",
       " 'Quotients',\n",
       " 'Realizations',\n",
       " 'SubcategoryMethods',\n",
       " 'Subobjects',\n",
       " 'Subquotients',\n",
       " 'Topological',\n",
       " 'Unital',\n",
       " 'WithRealizations',\n",
       " 'additional_structure',\n",
       " 'all_super_categories',\n",
       " 'an_instance',\n",
       " 'axioms',\n",
       " 'base_category',\n",
       " 'category',\n",
       " 'category_graph',\n",
       " 'db',\n",
       " 'dump',\n",
       " 'dumps',\n",
       " 'element_class',\n",
       " 'example',\n",
       " 'extra_super_categories',\n",
       " 'full_super_categories',\n",
       " 'hom_category',\n",
       " 'is_abelian',\n",
       " 'is_full_subcategory',\n",
       " 'is_subcategory',\n",
       " 'join',\n",
       " 'meet',\n",
       " 'morphism_class',\n",
       " 'or_subcategory',\n",
       " 'parent',\n",
       " 'parent_class',\n",
       " 'rename',\n",
       " 'required_methods',\n",
       " 'reset_name',\n",
       " 'save',\n",
       " 'structure',\n",
       " 'subcategory_class',\n",
       " 'super_categories',\n",
       " 'version']"
      ]
     },
     "execution_count": 2,
     "metadata": {},
     "output_type": "execute_result"
    }
   ],
   "source": [
    "[method for method in dir(RRing) if method[0] is not r'_']"
   ]
  },
  {
   "cell_type": "code",
   "execution_count": 3,
   "metadata": {
    "collapsed": false
   },
   "outputs": [
    {
     "data": {
      "text/plain": [
       "frozenset({'AdditiveAssociative',\n",
       "           'AdditiveCommutative',\n",
       "           'AdditiveInverse',\n",
       "           'AdditiveUnital',\n",
       "           'Associative',\n",
       "           'Distributive',\n",
       "           'Unital'})"
      ]
     },
     "execution_count": 3,
     "metadata": {},
     "output_type": "execute_result"
    }
   ],
   "source": [
    "RRing.axioms()"
   ]
  },
  {
   "cell_type": "code",
   "execution_count": 4,
   "metadata": {
    "collapsed": false
   },
   "outputs": [],
   "source": [
    "RCommutRing = CommutativeRing( RR ) # a \"base\" ring for input is needed"
   ]
  },
  {
   "cell_type": "code",
   "execution_count": 5,
   "metadata": {
    "collapsed": false
   },
   "outputs": [
    {
     "data": {
      "text/plain": [
       "True"
      ]
     },
     "execution_count": 5,
     "metadata": {},
     "output_type": "execute_result"
    }
   ],
   "source": [
    "RCommutRing.is_commutative()"
   ]
  },
  {
   "cell_type": "markdown",
   "metadata": {},
   "source": [
    "[Abstract Algebra: Theory and Applications, Section on Rings](http://abstract.ups.edu/aata/rings-sage.html) has some useful examples:"
   ]
  },
  {
   "cell_type": "code",
   "execution_count": 6,
   "metadata": {
    "collapsed": false
   },
   "outputs": [],
   "source": [
    "ZZRing = ZZ()\n",
    "RRRing = RR()\n",
    "CCRing = CC()\n",
    "QQRing = QQ() # Rational numbers"
   ]
  },
  {
   "cell_type": "markdown",
   "metadata": {},
   "source": [
    "$\\mathbb{Z}_n$, integers mod $n$:"
   ]
  },
  {
   "cell_type": "code",
   "execution_count": 7,
   "metadata": {
    "collapsed": true
   },
   "outputs": [],
   "source": [
    "Z_2Ring = Integers(2)\n",
    "Z_16Ring = Integers(16)"
   ]
  },
  {
   "cell_type": "markdown",
   "metadata": {},
   "source": [
    "Quadratic Field is the the field formed by combining the rationals with a solution to polynomial equation $x^2-n=0$, $\\equiv \\mathbb{Q}[\\sqrt{n}]$"
   ]
  },
  {
   "cell_type": "code",
   "execution_count": 8,
   "metadata": {
    "collapsed": true
   },
   "outputs": [],
   "source": [
    "QuadField2Ring = QuadraticField(2)"
   ]
  },
  {
   "cell_type": "code",
   "execution_count": 9,
   "metadata": {
    "collapsed": false
   },
   "outputs": [
    {
     "data": {
      "text/plain": [
       "['N',\n",
       " 'abs',\n",
       " 'additive_order',\n",
       " 'base_extend',\n",
       " 'base_ring',\n",
       " 'binary',\n",
       " 'binomial',\n",
       " 'bits',\n",
       " 'cartesian_product',\n",
       " 'category',\n",
       " 'ceil',\n",
       " 'class_number',\n",
       " 'conjugate',\n",
       " 'coprime_integers',\n",
       " 'crt',\n",
       " 'db',\n",
       " 'degree',\n",
       " 'denominator',\n",
       " 'digits',\n",
       " 'dist',\n",
       " 'divide_knowing_divisible_by',\n",
       " 'divides',\n",
       " 'divisors',\n",
       " 'dump',\n",
       " 'dumps',\n",
       " 'euclidean_degree',\n",
       " 'exact_log',\n",
       " 'exp',\n",
       " 'factor',\n",
       " 'factorial',\n",
       " 'floor',\n",
       " 'gamma',\n",
       " 'gcd',\n",
       " 'global_height',\n",
       " 'imag',\n",
       " 'inverse_mod',\n",
       " 'inverse_of_unit',\n",
       " 'is_idempotent',\n",
       " 'is_integer',\n",
       " 'is_integral',\n",
       " 'is_irreducible',\n",
       " 'is_nilpotent',\n",
       " 'is_norm',\n",
       " 'is_one',\n",
       " 'is_perfect_power',\n",
       " 'is_power_of',\n",
       " 'is_prime',\n",
       " 'is_prime_power',\n",
       " 'is_pseudoprime',\n",
       " 'is_pseudoprime_power',\n",
       " 'is_square',\n",
       " 'is_squarefree',\n",
       " 'is_unit',\n",
       " 'is_zero',\n",
       " 'isqrt',\n",
       " 'jacobi',\n",
       " 'kronecker',\n",
       " 'lcm',\n",
       " 'leading_coefficient',\n",
       " 'list',\n",
       " 'log',\n",
       " 'mod',\n",
       " 'multifactorial',\n",
       " 'multiplicative_order',\n",
       " 'n',\n",
       " 'nbits',\n",
       " 'ndigits',\n",
       " 'next_prime',\n",
       " 'next_prime_power',\n",
       " 'next_probable_prime',\n",
       " 'nth_root',\n",
       " 'numerator',\n",
       " 'numerical_approx',\n",
       " 'odd_part',\n",
       " 'ord',\n",
       " 'order',\n",
       " 'ordinal_str',\n",
       " 'parent',\n",
       " 'perfect_power',\n",
       " 'popcount',\n",
       " 'powermod',\n",
       " 'powermodm_ui',\n",
       " 'powers',\n",
       " 'previous_prime',\n",
       " 'previous_prime_power',\n",
       " 'prime_divisors',\n",
       " 'prime_factors',\n",
       " 'prime_to_m_part',\n",
       " 'quo_rem',\n",
       " 'radical',\n",
       " 'rank',\n",
       " 'rational_reconstruction',\n",
       " 'real',\n",
       " 'rename',\n",
       " 'reset_name',\n",
       " 'save',\n",
       " 'sign',\n",
       " 'sqrt',\n",
       " 'sqrtrem',\n",
       " 'squarefree_part',\n",
       " 'str',\n",
       " 'subs',\n",
       " 'substitute',\n",
       " 'support',\n",
       " 'test_bit',\n",
       " 'trailing_zero_bits',\n",
       " 'trial_division',\n",
       " 'val_unit',\n",
       " 'valuation',\n",
       " 'version',\n",
       " 'xgcd']"
      ]
     },
     "execution_count": 9,
     "metadata": {},
     "output_type": "execute_result"
    }
   ],
   "source": [
    "[method for method in dir(ZZRing) if method[0] is not '_']"
   ]
  },
  {
   "cell_type": "code",
   "execution_count": 10,
   "metadata": {
    "collapsed": false
   },
   "outputs": [
    {
     "data": {
      "text/plain": [
       "0"
      ]
     },
     "execution_count": 10,
     "metadata": {},
     "output_type": "execute_result"
    }
   ],
   "source": [
    "ZZRing.rank()"
   ]
  },
  {
   "cell_type": "markdown",
   "metadata": {},
   "source": [
    "### ring of **Gaussian integers**, $\\mathbb{I}_m \\equiv \\mathbb{Z}/m\\mathbb{Z}$"
   ]
  },
  {
   "cell_type": "code",
   "execution_count": 1,
   "metadata": {
    "collapsed": false
   },
   "outputs": [
    {
     "data": {
      "text/plain": [
       "Order in Number Field in I with defining polynomial x^2 + 1"
      ]
     },
     "execution_count": 1,
     "metadata": {},
     "output_type": "execute_result"
    }
   ],
   "source": [
    "ZZ[I]"
   ]
  },
  {
   "cell_type": "code",
   "execution_count": 3,
   "metadata": {
    "collapsed": false
   },
   "outputs": [
    {
     "data": {
      "text/plain": [
       "True"
      ]
     },
     "execution_count": 3,
     "metadata": {},
     "output_type": "execute_result"
    }
   ],
   "source": [
    "ZZ[I].is_integral_domain()"
   ]
  },
  {
   "cell_type": "code",
   "execution_count": 4,
   "metadata": {
    "collapsed": false
   },
   "outputs": [
    {
     "data": {
      "text/plain": [
       "0"
      ]
     },
     "execution_count": 4,
     "metadata": {},
     "output_type": "execute_result"
    }
   ],
   "source": [
    "ZZ[I].zero()"
   ]
  },
  {
   "cell_type": "code",
   "execution_count": 5,
   "metadata": {
    "collapsed": false
   },
   "outputs": [
    {
     "data": {
      "text/plain": [
       "1"
      ]
     },
     "execution_count": 5,
     "metadata": {},
     "output_type": "execute_result"
    }
   ],
   "source": [
    "ZZ[I].one()"
   ]
  },
  {
   "cell_type": "code",
   "execution_count": 11,
   "metadata": {
    "collapsed": false
   },
   "outputs": [
    {
     "data": {
      "text/plain": [
       "True"
      ]
     },
     "execution_count": 11,
     "metadata": {},
     "output_type": "execute_result"
    }
   ],
   "source": [
    "ZZ[I].is_ring()"
   ]
  },
  {
   "cell_type": "markdown",
   "metadata": {},
   "source": [
    "## Polynomials\n",
    "\n",
    "For reading - cf. Sec. 3.4 Greatest Common Divisors, of Joseph Rotman's **Advanced Modern Algebra**\n",
    "\n",
    "For the Sage Math exercises - cf. in **Abstract Algebra - Theory and Applications** by Thomas W. Judson, [17 Polynomials, 17.6 Sage](http://abstract.ups.edu/aata/poly-sage.html)"
   ]
  },
  {
   "cell_type": "markdown",
   "metadata": {},
   "source": [
    "\\begin{gathered}\n",
    "    \\mathbb{I}_8 \\equiv \\mathbb{Z}/8\\mathbb{Z} \\text{ is the (commutative) ring } \\\\\n",
    "    \\mathbb{Z}/8\\mathbb{Z}[x] \\text{ is the polynomial ring over } \\mathbb{Z}/8\\mathbb{Z}\n",
    "\\end{gathered}\n"
   ]
  },
  {
   "cell_type": "code",
   "execution_count": 12,
   "metadata": {
    "collapsed": false
   },
   "outputs": [
    {
     "data": {
      "text/plain": [
       "Univariate Polynomial Ring in x over Ring of integers modulo 8"
      ]
     },
     "execution_count": 12,
     "metadata": {},
     "output_type": "execute_result"
    }
   ],
   "source": [
    "R.<x> = Integers(8)[]; R"
   ]
  },
  {
   "cell_type": "code",
   "execution_count": 19,
   "metadata": {
    "collapsed": false
   },
   "outputs": [
    {
     "data": {
      "text/plain": [
       "Univariate Polynomial Ring in x over Ring of integers modulo 8"
      ]
     },
     "execution_count": 19,
     "metadata": {},
     "output_type": "execute_result"
    }
   ],
   "source": [
    "R1.<x> = PolynomialRing(ZZ.quo(8*ZZ)); R1"
   ]
  },
  {
   "cell_type": "code",
   "execution_count": 20,
   "metadata": {
    "collapsed": false
   },
   "outputs": [
    {
     "data": {
      "text/plain": [
       "True"
      ]
     },
     "execution_count": 20,
     "metadata": {},
     "output_type": "execute_result"
    }
   ],
   "source": [
    "R1 == R"
   ]
  },
  {
   "cell_type": "code",
   "execution_count": 21,
   "metadata": {
    "collapsed": false
   },
   "outputs": [
    {
     "data": {
      "text/plain": [
       "Univariate Polynomial Ring in y over Integer Ring"
      ]
     },
     "execution_count": 21,
     "metadata": {},
     "output_type": "execute_result"
    }
   ],
   "source": [
    "S.<y> = ZZ[]; S "
   ]
  },
  {
   "cell_type": "code",
   "execution_count": 22,
   "metadata": {
    "collapsed": false
   },
   "outputs": [
    {
     "data": {
      "text/plain": [
       "Univariate Polynomial Ring in z over Rational Field"
      ]
     },
     "execution_count": 22,
     "metadata": {},
     "output_type": "execute_result"
    }
   ],
   "source": [
    "T.<z> = QQ[]; T"
   ]
  },
  {
   "cell_type": "code",
   "execution_count": 23,
   "metadata": {
    "collapsed": false
   },
   "outputs": [
    {
     "data": {
      "text/plain": [
       "False"
      ]
     },
     "execution_count": 23,
     "metadata": {},
     "output_type": "execute_result"
    }
   ],
   "source": [
    "R.is_finite()"
   ]
  },
  {
   "cell_type": "code",
   "execution_count": 25,
   "metadata": {
    "collapsed": false
   },
   "outputs": [
    {
     "data": {
      "text/plain": [
       "False"
      ]
     },
     "execution_count": 25,
     "metadata": {},
     "output_type": "execute_result"
    }
   ],
   "source": [
    "R.is_integral_domain()"
   ]
  },
  {
   "cell_type": "code",
   "execution_count": 26,
   "metadata": {
    "collapsed": false
   },
   "outputs": [
    {
     "data": {
      "text/plain": [
       "True"
      ]
     },
     "execution_count": 26,
     "metadata": {},
     "output_type": "execute_result"
    }
   ],
   "source": [
    "S.is_integral_domain()"
   ]
  },
  {
   "cell_type": "code",
   "execution_count": 27,
   "metadata": {
    "collapsed": false
   },
   "outputs": [
    {
     "data": {
      "text/plain": [
       "False"
      ]
     },
     "execution_count": 27,
     "metadata": {},
     "output_type": "execute_result"
    }
   ],
   "source": [
    "T.is_field()"
   ]
  },
  {
   "cell_type": "code",
   "execution_count": 28,
   "metadata": {
    "collapsed": false
   },
   "outputs": [
    {
     "data": {
      "text/plain": [
       "8"
      ]
     },
     "execution_count": 28,
     "metadata": {},
     "output_type": "execute_result"
    }
   ],
   "source": [
    "R.characteristic()"
   ]
  },
  {
   "cell_type": "code",
   "execution_count": 29,
   "metadata": {
    "collapsed": false
   },
   "outputs": [
    {
     "data": {
      "text/plain": [
       "0"
      ]
     },
     "execution_count": 29,
     "metadata": {},
     "output_type": "execute_result"
    }
   ],
   "source": [
    "T.characteristic()"
   ]
  },
  {
   "cell_type": "code",
   "execution_count": 31,
   "metadata": {
    "collapsed": false
   },
   "outputs": [
    {
     "name": "stdout",
     "output_type": "stream",
     "text": [
      "True\n"
     ]
    },
    {
     "data": {
      "text/plain": [
       "False"
      ]
     },
     "execution_count": 31,
     "metadata": {},
     "output_type": "execute_result"
    }
   ],
   "source": [
    "print(y in S)\n",
    "x in S"
   ]
  },
  {
   "cell_type": "code",
   "execution_count": 32,
   "metadata": {
    "collapsed": false
   },
   "outputs": [
    {
     "data": {
      "text/plain": [
       "True"
      ]
     },
     "execution_count": 32,
     "metadata": {},
     "output_type": "execute_result"
    }
   ],
   "source": [
    "q = (3/2) + (5/4)*z^2 \n",
    "q in T"
   ]
  },
  {
   "cell_type": "code",
   "execution_count": 34,
   "metadata": {
    "collapsed": false
   },
   "outputs": [
    {
     "name": "stdout",
     "output_type": "stream",
     "text": [
      "True\n",
      "Integer Ring\n"
     ]
    },
    {
     "data": {
      "text/plain": [
       "Univariate Polynomial Ring in y over Integer Ring"
      ]
     },
     "execution_count": 34,
     "metadata": {},
     "output_type": "execute_result"
    }
   ],
   "source": [
    "print(3 in S)\n",
    "r = 3\n",
    "print( r.parent() )\n",
    "s = 3*y^0\n",
    "s.parent()"
   ]
  },
  {
   "cell_type": "markdown",
   "metadata": {},
   "source": [
    "Polynomials can be evaluated like they are functions"
   ]
  },
  {
   "cell_type": "code",
   "execution_count": 35,
   "metadata": {
    "collapsed": false
   },
   "outputs": [
    {
     "name": "stdout",
     "output_type": "stream",
     "text": [
      "Univariate Polynomial Ring in x over Ring of integers modulo 8\n"
     ]
    },
    {
     "data": {
      "text/plain": [
       "2"
      ]
     },
     "execution_count": 35,
     "metadata": {},
     "output_type": "execute_result"
    }
   ],
   "source": [
    "p = 3 + 5*x + 2*x^2\n",
    "print( p.parent() )\n",
    "p(1)"
   ]
  },
  {
   "cell_type": "code",
   "execution_count": 36,
   "metadata": {
    "collapsed": false
   },
   "outputs": [
    {
     "data": {
      "text/plain": [
       "[3, 2, 5, 4, 7, 6, 1, 0]"
      ]
     },
     "execution_count": 36,
     "metadata": {},
     "output_type": "execute_result"
    }
   ],
   "source": [
    "[p(t) for t in Integers(8)]"
   ]
  },
  {
   "cell_type": "code",
   "execution_count": 38,
   "metadata": {
    "collapsed": false
   },
   "outputs": [
    {
     "data": {
      "text/plain": [
       "[0, 0, 0, 0, 0, 0, 0, 0]"
      ]
     },
     "execution_count": 38,
     "metadata": {},
     "output_type": "execute_result"
    }
   ],
   "source": [
    "g = 4*x^2 + 4*x\n",
    "[g(t) for t in Integers(8)]"
   ]
  },
  {
   "cell_type": "code",
   "execution_count": 39,
   "metadata": {
    "collapsed": false
   },
   "outputs": [
    {
     "data": {
      "text/plain": [
       "Multivariate Polynomial Ring in s, t over Rational Field"
      ]
     },
     "execution_count": 39,
     "metadata": {},
     "output_type": "execute_result"
    }
   ],
   "source": [
    "M.<s,t> = QQ[]; M"
   ]
  },
  {
   "cell_type": "markdown",
   "metadata": {},
   "source": [
    "### Irreducible Polynomials"
   ]
  },
  {
   "cell_type": "code",
   "execution_count": 40,
   "metadata": {
    "collapsed": false
   },
   "outputs": [
    {
     "data": {
      "text/plain": [
       "True"
      ]
     },
     "execution_count": 40,
     "metadata": {},
     "output_type": "execute_result"
    }
   ],
   "source": [
    "R.<x> = QQ[]\n",
    "p = 1/4*x^4 - x^3 + x^2 - x - 1/2\n",
    "p.is_irreducible()"
   ]
  },
  {
   "cell_type": "code",
   "execution_count": 41,
   "metadata": {
    "collapsed": false
   },
   "outputs": [
    {
     "data": {
      "text/plain": [
       "(1/4) * (x^4 - 4*x^3 + 4*x^2 - 4*x - 2)"
      ]
     },
     "execution_count": 41,
     "metadata": {},
     "output_type": "execute_result"
    }
   ],
   "source": [
    "p.factor()"
   ]
  },
  {
   "cell_type": "code",
   "execution_count": 42,
   "metadata": {
    "collapsed": false
   },
   "outputs": [
    {
     "data": {
      "text/plain": [
       "False"
      ]
     },
     "execution_count": 42,
     "metadata": {},
     "output_type": "execute_result"
    }
   ],
   "source": [
    "q = 2*x^5 + 5/2*x^4 + 3/4*x^3 - 25/24*x^2 - x - 1/2\n",
    "q.is_irreducible()"
   ]
  },
  {
   "cell_type": "code",
   "execution_count": 43,
   "metadata": {
    "collapsed": false
   },
   "outputs": [
    {
     "data": {
      "text/plain": [
       "(2) * (x^2 + 3/2*x + 3/4) * (x^3 - 1/4*x^2 - 1/3)"
      ]
     },
     "execution_count": 43,
     "metadata": {},
     "output_type": "execute_result"
    }
   ],
   "source": [
    "q.factor()"
   ]
  },
  {
   "cell_type": "code",
   "execution_count": 51,
   "metadata": {
    "collapsed": false
   },
   "outputs": [
    {
     "data": {
      "text/plain": [
       "True"
      ]
     },
     "execution_count": 51,
     "metadata": {},
     "output_type": "execute_result"
    }
   ],
   "source": [
    "F.<a> = FiniteField(5^2)\n",
    "S.<y> = F[]\n",
    "p = 2*y^5 + 2*y^4 + 4*y^3 + 2*y^2 + 3*y + 1\n",
    "p.is_irreducible()"
   ]
  },
  {
   "cell_type": "code",
   "execution_count": 52,
   "metadata": {
    "collapsed": false
   },
   "outputs": [
    {
     "data": {
      "text/plain": [
       "(2) * (y^5 + y^4 + 2*y^3 + y^2 + 4*y + 3)"
      ]
     },
     "execution_count": 52,
     "metadata": {},
     "output_type": "execute_result"
    }
   ],
   "source": [
    "p.factor()"
   ]
  },
  {
   "cell_type": "code",
   "execution_count": 54,
   "metadata": {
    "collapsed": false
   },
   "outputs": [
    {
     "name": "stdout",
     "output_type": "stream",
     "text": [
      "False\n"
     ]
    },
    {
     "data": {
      "text/plain": [
       "(3) * (y^2 + (a + 4)*y + 2*a + 3) * (y^2 + 4*a*y + 3*a)"
      ]
     },
     "execution_count": 54,
     "metadata": {},
     "output_type": "execute_result"
    }
   ],
   "source": [
    "q = 3*y^4+2*y^3-y+4; print( q.is_irreducible() )\n",
    "q.factor()"
   ]
  },
  {
   "cell_type": "code",
   "execution_count": 55,
   "metadata": {
    "collapsed": false
   },
   "outputs": [
    {
     "data": {
      "text/plain": [
       "(y + 4) * (y^3 + 3*y^2 + y + 1)"
      ]
     },
     "execution_count": 55,
     "metadata": {},
     "output_type": "execute_result"
    }
   ],
   "source": [
    "r = y^4 + 2*y^3 + 3*y^2+4; r.factor()"
   ]
  },
  {
   "cell_type": "code",
   "execution_count": 57,
   "metadata": {
    "collapsed": false
   },
   "outputs": [
    {
     "data": {
      "text/plain": [
       "(3) * (y + 1) * (y + 3) * (y + 2*a + 4) * (y + 3*a + 1)"
      ]
     },
     "execution_count": 57,
     "metadata": {},
     "output_type": "execute_result"
    }
   ],
   "source": [
    "s = 3*y^4+2*y^3-y+3; s.factor()"
   ]
  },
  {
   "cell_type": "code",
   "execution_count": 58,
   "metadata": {
    "collapsed": false
   },
   "outputs": [
    {
     "data": {
      "text/plain": [
       "x^2 + 4*x + 2"
      ]
     },
     "execution_count": 58,
     "metadata": {},
     "output_type": "execute_result"
    }
   ],
   "source": [
    "F.modulus()"
   ]
  },
  {
   "cell_type": "code",
   "execution_count": 60,
   "metadata": {
    "collapsed": false
   },
   "outputs": [
    {
     "data": {
      "text/plain": [
       "True"
      ]
     },
     "execution_count": 60,
     "metadata": {},
     "output_type": "execute_result"
    }
   ],
   "source": [
    "F.modulus().is_irreducible()"
   ]
  },
  {
   "cell_type": "markdown",
   "metadata": {},
   "source": [
    "### Polynomials over Fields\n",
    "\n",
    "If $F$ is a field, then every ideal of $F[x]$ is principal.  cf. (http://abstract.ups.edu/aata/poly-sage.html)"
   ]
  },
  {
   "cell_type": "code",
   "execution_count": 61,
   "metadata": {
    "collapsed": false
   },
   "outputs": [
    {
     "data": {
      "text/plain": [
       "Principal ideal (w^2 - 4*w + 1) of Univariate Polynomial Ring in w over Rational Field"
      ]
     },
     "execution_count": 61,
     "metadata": {},
     "output_type": "execute_result"
    }
   ],
   "source": [
    "W.<w> = QQ[]\n",
    "r = -w^5 + 5*w^4 - 4*w^3 + 14*w^2 - 67*w + 17\n",
    "s = 3*w^5 - 14*w^4 + 12*w^3 - 6*w^2 + w\n",
    "S = W.ideal(r, s)\n",
    "S"
   ]
  },
  {
   "cell_type": "code",
   "execution_count": 62,
   "metadata": {
    "collapsed": false
   },
   "outputs": [
    {
     "data": {
      "text/plain": [
       "True"
      ]
     },
     "execution_count": 62,
     "metadata": {},
     "output_type": "execute_result"
    }
   ],
   "source": [
    "(w^2)*r + (3*w-6)*s in S"
   ]
  },
  {
   "cell_type": "code",
   "execution_count": 63,
   "metadata": {
    "collapsed": false
   },
   "outputs": [
    {
     "data": {
      "text/plain": [
       "True"
      ]
     },
     "execution_count": 63,
     "metadata": {},
     "output_type": "execute_result"
    }
   ],
   "source": [
    "F = Integers(7)\n",
    "R.<x> = F[]\n",
    "p = x^5 + x + 4\n",
    "p.is_irreducible()"
   ]
  },
  {
   "cell_type": "markdown",
   "metadata": {},
   "source": [
    "cf. [Sage Reference Manual: Polynomials, Release 7.3](http://doc.sagemath.org/pdf/en/reference/polynomial_rings/polynomial_rings.pdf)"
   ]
  },
  {
   "cell_type": "code",
   "execution_count": 64,
   "metadata": {
    "collapsed": false
   },
   "outputs": [
    {
     "name": "stdout",
     "output_type": "stream",
     "text": [
      "[1, 2, 1]\n"
     ]
    },
    {
     "data": {
      "text/plain": [
       "[1, 0, 2, 0, 1]"
      ]
     },
     "execution_count": 64,
     "metadata": {},
     "output_type": "execute_result"
    }
   ],
   "source": [
    "_.<x> = PolynomialRing(ZZ)\n",
    "f = x^4 + 2*x^2 + 1\n",
    "print( f.coefficients() )\n",
    "f.coefficients(sparse=False)"
   ]
  },
  {
   "cell_type": "code",
   "execution_count": 65,
   "metadata": {
    "collapsed": false
   },
   "outputs": [
    {
     "data": {
      "text/plain": [
       "4"
      ]
     },
     "execution_count": 65,
     "metadata": {},
     "output_type": "execute_result"
    }
   ],
   "source": [
    "f.degree()"
   ]
  },
  {
   "cell_type": "markdown",
   "metadata": {},
   "source": [
    "#### Take derivatives of polynomials\n",
    "\n",
    "$\\begin{gathered}\n",
    "f'(x) \\\\\n",
    "f''(x)\n",
    "\\end{gathered}$"
   ]
  },
  {
   "cell_type": "code",
   "execution_count": 66,
   "metadata": {
    "collapsed": false
   },
   "outputs": [
    {
     "name": "stdout",
     "output_type": "stream",
     "text": [
      "4*x^3 + 4*x\n",
      "12*x^2 + 4\n"
     ]
    },
    {
     "data": {
      "text/plain": [
       "12*x^2 + 4"
      ]
     },
     "execution_count": 66,
     "metadata": {},
     "output_type": "execute_result"
    }
   ],
   "source": [
    "print( f.derivative(x) )\n",
    "print( f.derivative(x,x) )\n",
    "f.derivative(x,2) "
   ]
  },
  {
   "cell_type": "markdown",
   "metadata": {},
   "source": [
    "cf. J. Rotman, **Advanced Modern Algebra**, Exercise 3.28"
   ]
  },
  {
   "cell_type": "code",
   "execution_count": 89,
   "metadata": {
    "collapsed": false
   },
   "outputs": [],
   "source": [
    "ZZ5_x_polys.<x> = PolynomialRing( Integers(5) )"
   ]
  },
  {
   "cell_type": "code",
   "execution_count": 92,
   "metadata": {
    "collapsed": false
   },
   "outputs": [
    {
     "data": {
      "text/plain": [
       "x + 3"
      ]
     },
     "execution_count": 92,
     "metadata": {},
     "output_type": "execute_result"
    }
   ],
   "source": [
    "( Integers(5)(1)*x**3-Integers(5)(7)*x+Integers(5)(6) ).gcd( Integers(5)(1)*x**2-Integers(5)(1)*x-Integers(5)(2) )\n",
    "(x^3-7*x+6).gcd(x^2-x-2)"
   ]
  },
  {
   "cell_type": "code",
   "execution_count": 95,
   "metadata": {
    "collapsed": false
   },
   "outputs": [
    {
     "name": "stdout",
     "output_type": "stream",
     "text": [
      "(x + 1) * (x + 3)\n"
     ]
    },
    {
     "data": {
      "text/plain": [
       "(x + 4) * (x + 3)^2"
      ]
     },
     "execution_count": 95,
     "metadata": {},
     "output_type": "execute_result"
    }
   ],
   "source": [
    "print( (x^2-x-2).factor() )\n",
    "(x^3-7*x+6).factor()\n",
    "factor( x^3-7*x+6)"
   ]
  },
  {
   "cell_type": "code",
   "execution_count": 93,
   "metadata": {
    "collapsed": false
   },
   "outputs": [
    {
     "name": "stdout",
     "output_type": "stream",
     "text": [
      "x^2 + 4*x + 3\n"
     ]
    }
   ],
   "source": [
    "print( (x+1)*(x+3) )"
   ]
  },
  {
   "cell_type": "code",
   "execution_count": 96,
   "metadata": {
    "collapsed": false
   },
   "outputs": [
    {
     "name": "stdout",
     "output_type": "stream",
     "text": [
      "Univariate Polynomial Ring in x over Ring of integers modulo 5\n"
     ]
    },
    {
     "data": {
      "text/plain": [
       "Univariate Polynomial Ring in x over Ring of integers modulo 5"
      ]
     },
     "execution_count": 96,
     "metadata": {},
     "output_type": "execute_result"
    }
   ],
   "source": [
    "p0328 = x^2 - x - 2\n",
    "q0328 = x^3 - 7*x+6\n",
    "print( p0328.parent() )\n",
    "q0328.parent() \n"
   ]
  },
  {
   "cell_type": "markdown",
   "metadata": {},
   "source": [
    "At this point, this helped to check what's going on: cf. [Ring Z/nZ\n",
    "of integers modulo n](http://doc.sagemath.org/html/en/reference/finite_rings/sage/rings/finite_rings/integer_mod_ring.html)"
   ]
  },
  {
   "cell_type": "code",
   "execution_count": 94,
   "metadata": {
    "collapsed": false
   },
   "outputs": [
    {
     "name": "stdout",
     "output_type": "stream",
     "text": [
      "1\n",
      "3\n",
      "1\n",
      "0\n",
      "3\n",
      "0\n",
      "3\n",
      "6\n",
      "0\n",
      "3\n"
     ]
    }
   ],
   "source": [
    "print( Integers(5).0 )\n",
    "print( Integers(5)(0) + Integers(5)(3) )\n",
    "print( Integers(5)(0) + Integers(5)(6) )\n",
    "print( Integers(5)(0)*Integers(5)(2) )\n",
    "print( Integers(5)(1)*Integers(5)(3) ) \n",
    "\n",
    "print( 0 )\n",
    "print( 0 + 3 )\n",
    "print( 0 + 6 )\n",
    "print( 0 * 2 )\n",
    "print( 1 * 3 )"
   ]
  },
  {
   "cell_type": "markdown",
   "metadata": {},
   "source": [
    "cf. J. Rotman, **Advanced Modern Algebra**, Exercise 3.30"
   ]
  },
  {
   "cell_type": "code",
   "execution_count": 97,
   "metadata": {
    "collapsed": true
   },
   "outputs": [],
   "source": [
    "ZZ3_x_polys.<x> = PolynomialRing( Integers(3) )"
   ]
  },
  {
   "cell_type": "code",
   "execution_count": 98,
   "metadata": {
    "collapsed": true
   },
   "outputs": [],
   "source": [
    "f0330 = x^2 + 1\n",
    "g0330 = x^3 + x + 1"
   ]
  },
  {
   "cell_type": "code",
   "execution_count": 99,
   "metadata": {
    "collapsed": false
   },
   "outputs": [
    {
     "data": {
      "text/plain": [
       "1"
      ]
     },
     "execution_count": 99,
     "metadata": {},
     "output_type": "execute_result"
    }
   ],
   "source": [
    "f0330.gcd( g0330 )"
   ]
  },
  {
   "cell_type": "code",
   "execution_count": 101,
   "metadata": {
    "collapsed": false
   },
   "outputs": [
    {
     "name": "stdout",
     "output_type": "stream",
     "text": [
      "x^2 + 1\n"
     ]
    },
    {
     "data": {
      "text/plain": [
       "(x + 2) * (x^2 + x + 2)"
      ]
     },
     "execution_count": 101,
     "metadata": {},
     "output_type": "execute_result"
    }
   ],
   "source": [
    "print( factor( f0330 ) )\n",
    "factor( g0330 )"
   ]
  },
  {
   "cell_type": "markdown",
   "metadata": {},
   "source": [
    "# Modules"
   ]
  },
  {
   "cell_type": "code",
   "execution_count": null,
   "metadata": {
    "collapsed": true
   },
   "outputs": [],
   "source": []
  },
  {
   "cell_type": "code",
   "execution_count": null,
   "metadata": {
    "collapsed": true
   },
   "outputs": [],
   "source": []
  },
  {
   "cell_type": "code",
   "execution_count": 11,
   "metadata": {
    "collapsed": true
   },
   "outputs": [],
   "source": [
    "%display latex"
   ]
  },
  {
   "cell_type": "code",
   "execution_count": 12,
   "metadata": {
    "collapsed": false
   },
   "outputs": [],
   "source": [
    "RingModule = Modules(Rings())"
   ]
  },
  {
   "cell_type": "code",
   "execution_count": 13,
   "metadata": {
    "collapsed": false
   },
   "outputs": [
    {
     "data": {
      "text/html": [
       "<html><script type=\"math/tex; mode=display\">\\newcommand{\\Bold}[1]{\\mathbf{#1}}\\left[\\verb|AdditiveAssociative|, \\verb|AdditiveCommutative|, \\verb|AdditiveInverse|, \\verb|AdditiveUnital|, \\verb|Algebras|, \\verb|CartesianProducts|, \\verb|DualObjects|, \\verb|ElementMethods|, \\verb|Endsets|, \\verb|Facade|, \\verb|Facades|, \\verb|Filtered|, \\verb|Finite|, \\verb|FiniteDimensional|, \\verb|Graded|, \\verb|Homsets|, \\verb|Infinite|, \\verb|IsomorphicObjects|, \\verb|Metric|, \\verb|ParentMethods|, \\verb|Quotients|, \\verb|Realizations|, \\verb|SubcategoryMethods|, \\verb|Subobjects|, \\verb|Subquotients|, \\verb|Super|, \\verb|TensorProducts|, \\verb|Topological|, \\verb|WithBasis|, \\verb|WithRealizations|, \\verb|additional_structure|, \\verb|all_super_categories|, \\verb|an_instance|, \\verb|axioms|, \\verb|base|, \\verb|base_ring|, \\verb|category|, \\verb|category_graph|, \\verb|db|, \\verb|dual|, \\verb|dump|, \\verb|dumps|, \\verb|element_class|, \\verb|example|, \\verb|full_super_categories|, \\verb|hom_category|, \\verb|is_abelian|, \\verb|is_full_subcategory|, \\verb|is_subcategory|, \\verb|join|, \\verb|meet|, \\verb|morphism_class|, \\verb|or_subcategory|, \\verb|parent|, \\verb|parent_class|, \\verb|rename|, \\verb|required_methods|, \\verb|reset_name|, \\verb|save|, \\verb|structure|, \\verb|subcategory_class|, \\verb|super_categories|, \\verb|version|\\right]</script></html>"
      ],
      "text/plain": [
       "['AdditiveAssociative',\n",
       " 'AdditiveCommutative',\n",
       " 'AdditiveInverse',\n",
       " 'AdditiveUnital',\n",
       " 'Algebras',\n",
       " 'CartesianProducts',\n",
       " 'DualObjects',\n",
       " 'ElementMethods',\n",
       " 'Endsets',\n",
       " 'Facade',\n",
       " 'Facades',\n",
       " 'Filtered',\n",
       " 'Finite',\n",
       " 'FiniteDimensional',\n",
       " 'Graded',\n",
       " 'Homsets',\n",
       " 'Infinite',\n",
       " 'IsomorphicObjects',\n",
       " 'Metric',\n",
       " 'ParentMethods',\n",
       " 'Quotients',\n",
       " 'Realizations',\n",
       " 'SubcategoryMethods',\n",
       " 'Subobjects',\n",
       " 'Subquotients',\n",
       " 'Super',\n",
       " 'TensorProducts',\n",
       " 'Topological',\n",
       " 'WithBasis',\n",
       " 'WithRealizations',\n",
       " 'additional_structure',\n",
       " 'all_super_categories',\n",
       " 'an_instance',\n",
       " 'axioms',\n",
       " 'base',\n",
       " 'base_ring',\n",
       " 'category',\n",
       " 'category_graph',\n",
       " 'db',\n",
       " 'dual',\n",
       " 'dump',\n",
       " 'dumps',\n",
       " 'element_class',\n",
       " 'example',\n",
       " 'full_super_categories',\n",
       " 'hom_category',\n",
       " 'is_abelian',\n",
       " 'is_full_subcategory',\n",
       " 'is_subcategory',\n",
       " 'join',\n",
       " 'meet',\n",
       " 'morphism_class',\n",
       " 'or_subcategory',\n",
       " 'parent',\n",
       " 'parent_class',\n",
       " 'rename',\n",
       " 'required_methods',\n",
       " 'reset_name',\n",
       " 'save',\n",
       " 'structure',\n",
       " 'subcategory_class',\n",
       " 'super_categories',\n",
       " 'version']"
      ]
     },
     "execution_count": 13,
     "metadata": {},
     "output_type": "execute_result"
    }
   ],
   "source": [
    "[method for method in dir(RingModule) if method[0] is not '_']"
   ]
  },
  {
   "cell_type": "code",
   "execution_count": 14,
   "metadata": {
    "collapsed": false
   },
   "outputs": [
    {
     "data": {
      "image/png": "[encoded data removed]",
      "text/plain": [
       "Digraph on 17 vertices"
      ]
     },
     "execution_count": 14,
     "metadata": {},
     "output_type": "execute_result"
    }
   ],
   "source": [
    "RingModule.category_graph()"
   ]
  },
  {
   "cell_type": "code",
   "execution_count": 15,
   "metadata": {
    "collapsed": false
   },
   "outputs": [
    {
     "data": {
      "text/html": [
       "<html><script type=\"math/tex; mode=display\">\\newcommand{\\Bold}[1]{\\mathbf{#1}}\\verb|frozenset(['AdditiveCommutative',|\\phantom{\\verb!x!}\\verb|'AdditiveAssociative',|\\phantom{\\verb!x!}\\verb|'AdditiveUnital',|\\phantom{\\verb!x!}\\verb|'AdditiveInverse'])|</script></html>"
      ],
      "text/plain": [
       "frozenset({'AdditiveAssociative',\n",
       "           'AdditiveCommutative',\n",
       "           'AdditiveInverse',\n",
       "           'AdditiveUnital'})"
      ]
     },
     "execution_count": 15,
     "metadata": {},
     "output_type": "execute_result"
    }
   ],
   "source": [
    "RingModule.axioms() "
   ]
  },
  {
   "cell_type": "code",
   "execution_count": 16,
   "metadata": {
    "collapsed": true
   },
   "outputs": [],
   "source": [
    "ZZmodule = Modules(ZZ)"
   ]
  },
  {
   "cell_type": "code",
   "execution_count": 17,
   "metadata": {
    "collapsed": false
   },
   "outputs": [
    {
     "data": {
      "text/html": [
       "<html><script type=\"math/tex; mode=display\">\\newcommand{\\Bold}[1]{\\mathbf{#1}}\\left(\\mathbf{Modules}_{\\Bold{Z}}, \\mathbf{Modules}_{\\Bold{Z}}, \\mathbf{Modules}_{\\Bold{Q}}\\right)</script></html>"
      ],
      "text/plain": [
       "(Category of modules over Integer Ring,\n",
       " Category of modules over Integer Ring,\n",
       " Category of modules over Rational Field)"
      ]
     },
     "execution_count": 17,
     "metadata": {},
     "output_type": "execute_result"
    }
   ],
   "source": [
    "ZZmodule.AdditiveInverse(), ZZmodule.AdditiveUnital(), ZZmodule.an_instance()"
   ]
  },
  {
   "cell_type": "code",
   "execution_count": 18,
   "metadata": {
    "collapsed": false
   },
   "outputs": [
    {
     "data": {
      "image/png": "[encoded data removed]",
      "text/plain": [
       "Digraph on 17 vertices"
      ]
     },
     "execution_count": 18,
     "metadata": {},
     "output_type": "execute_result"
    }
   ],
   "source": [
    "ZZmodule.category_graph()"
   ]
  },
  {
   "cell_type": "markdown",
   "metadata": {},
   "source": [
    "cf. Chapter 7 Modules and Categories, 7.1 Modules of Rotman, **Advanced Modern Algebra**, pp. 423, Example 7.1"
   ]
  },
  {
   "cell_type": "code",
   "execution_count": 19,
   "metadata": {
    "collapsed": false
   },
   "outputs": [],
   "source": [
    "n = var('n',domain=\"integer\")\n",
    "RRmoduleVecSpace = VectorSpace(RR,3)"
   ]
  },
  {
   "cell_type": "code",
   "execution_count": 20,
   "metadata": {
    "collapsed": false
   },
   "outputs": [
    {
     "data": {
      "text/html": [
       "<html><script type=\"math/tex; mode=display\">\\newcommand{\\Bold}[1]{\\mathbf{#1}}\\left[\\verb|CartesianProduct|, \\verb|Element|, \\verb|Hom|, \\verb|addition_table|, \\verb|algebra|, \\verb|ambient_module|, \\verb|ambient_vector_space|, \\verb|an_element|, \\verb|annihilator|, \\verb|annihilator_basis|, \\verb|are_linearly_dependent|, \\verb|base|, \\verb|base_extend|, \\verb|base_field|, \\verb|base_ring|, \\verb|basis|, \\verb|basis_matrix|, \\verb|cardinality|, \\verb|cartesian_product|, \\verb|categories|, \\verb|category|, \\verb|change_ring|, \\verb|coerce|, \\verb|coerce_embedding|, \\verb|coerce_map_from|, \\verb|complement|, \\verb|construction|, \\verb|convert_map_from|, \\verb|coordinate_module|, \\verb|coordinate_ring|, \\verb|coordinate_vector|, \\verb|coordinates|, \\verb|db|, \\verb|degree|, \\verb|denominator|, \\verb|dense_module|, \\verb|dimension|, \\verb|direct_sum|, \\verb|discriminant|, \\verb|dump|, \\verb|dumps|, \\verb|echelon_coordinate_vector|, \\verb|echelon_coordinates|, \\verb|echelon_form|, \\verb|echelonized_basis|, \\verb|echelonized_basis_matrix|, \\verb|element_class|, \\verb|endomorphism_ring|, \\verb|free_module|, \\verb|gen|, \\verb|gens|, \\verb|gens_dict|, \\verb|gens_dict_recursive|, \\verb|get_action|, \\verb|gram_matrix|, \\verb|has_base|, \\verb|has_coerce_map_from|, \\verb|has_user_basis|, \\verb|hom|, \\verb|index_in|, \\verb|index_in_saturation|, \\verb|inject_variables|, \\verb|injvar|, \\verb|inner_product_matrix|, \\verb|intersection|, \\verb|is_ambient|, \\verb|is_atomic_repr|, \\verb|is_coercion_cached|, \\verb|is_conversion_cached|, \\verb|is_dense|, \\verb|is_empty|, \\verb|is_exact|, \\verb|is_finite|, \\verb|is_full|, \\verb|is_parent_of|, \\verb|is_sparse|, \\verb|is_submodule|, \\verb|is_subspace|, \\verb|latex_name|, \\verb|latex_variable_names|, \\verb|linear_combination|, \\verb|linear_combination_of_basis|, \\verb|linear_dependence|, \\verb|list|, \\verb|matrix|, \\verb|module_morphism|, \\verb|monomial|, \\verb|monomial_or_zero_if_none|, \\verb|ngens|, \\verb|nonembedded_free_module|, \\verb|normalize_names|, \\verb|objgen|, \\verb|objgens|, \\verb|parent|, \\verb|quotient|, \\verb|quotient_abstract|, \\verb|quotient_module|, \\verb|random_element|, \\verb|rank|, \\verb|register_action|, \\verb|register_coercion|, \\verb|register_conversion|, \\verb|register_embedding|, \\verb|rename|, \\verb|reset_name|, \\verb|saturation|, \\verb|save|, \\verb|scale|, \\verb|some_elements|, \\verb|span|, \\verb|span_of_basis|, \\verb|sparse_module|, \\verb|submodule|, \\verb|submodule_with_basis|, \\verb|subspace|, \\verb|subspace_with_basis|, \\verb|subspaces|, \\verb|sum|, \\verb|sum_of_monomials|, \\verb|sum_of_terms|, \\verb|summation|, \\verb|summation_from_element_class_add|, \\verb|tensor|, \\verb|tensor_square|, \\verb|term|, \\verb|uses_ambient_inner_product|, \\verb|variable_name|, \\verb|variable_names|, \\verb|vector_space|, \\verb|vector_space_span|, \\verb|vector_space_span_of_basis|, \\verb|version|, \\verb|zero|, \\verb|zero_element|, \\verb|zero_submodule|, \\verb|zero_subspace|, \\verb|zero_vector|\\right]</script></html>"
      ],
      "text/plain": [
       "['CartesianProduct',\n",
       " 'Element',\n",
       " 'Hom',\n",
       " 'addition_table',\n",
       " 'algebra',\n",
       " 'ambient_module',\n",
       " 'ambient_vector_space',\n",
       " 'an_element',\n",
       " 'annihilator',\n",
       " 'annihilator_basis',\n",
       " 'are_linearly_dependent',\n",
       " 'base',\n",
       " 'base_extend',\n",
       " 'base_field',\n",
       " 'base_ring',\n",
       " 'basis',\n",
       " 'basis_matrix',\n",
       " 'cardinality',\n",
       " 'cartesian_product',\n",
       " 'categories',\n",
       " 'category',\n",
       " 'change_ring',\n",
       " 'coerce',\n",
       " 'coerce_embedding',\n",
       " 'coerce_map_from',\n",
       " 'complement',\n",
       " 'construction',\n",
       " 'convert_map_from',\n",
       " 'coordinate_module',\n",
       " 'coordinate_ring',\n",
       " 'coordinate_vector',\n",
       " 'coordinates',\n",
       " 'db',\n",
       " 'degree',\n",
       " 'denominator',\n",
       " 'dense_module',\n",
       " 'dimension',\n",
       " 'direct_sum',\n",
       " 'discriminant',\n",
       " 'dump',\n",
       " 'dumps',\n",
       " 'echelon_coordinate_vector',\n",
       " 'echelon_coordinates',\n",
       " 'echelon_form',\n",
       " 'echelonized_basis',\n",
       " 'echelonized_basis_matrix',\n",
       " 'element_class',\n",
       " 'endomorphism_ring',\n",
       " 'free_module',\n",
       " 'gen',\n",
       " 'gens',\n",
       " 'gens_dict',\n",
       " 'gens_dict_recursive',\n",
       " 'get_action',\n",
       " 'gram_matrix',\n",
       " 'has_base',\n",
       " 'has_coerce_map_from',\n",
       " 'has_user_basis',\n",
       " 'hom',\n",
       " 'index_in',\n",
       " 'index_in_saturation',\n",
       " 'inject_variables',\n",
       " 'injvar',\n",
       " 'inner_product_matrix',\n",
       " 'intersection',\n",
       " 'is_ambient',\n",
       " 'is_atomic_repr',\n",
       " 'is_coercion_cached',\n",
       " 'is_conversion_cached',\n",
       " 'is_dense',\n",
       " 'is_empty',\n",
       " 'is_exact',\n",
       " 'is_finite',\n",
       " 'is_full',\n",
       " 'is_parent_of',\n",
       " 'is_sparse',\n",
       " 'is_submodule',\n",
       " 'is_subspace',\n",
       " 'latex_name',\n",
       " 'latex_variable_names',\n",
       " 'linear_combination',\n",
       " 'linear_combination_of_basis',\n",
       " 'linear_dependence',\n",
       " 'list',\n",
       " 'matrix',\n",
       " 'module_morphism',\n",
       " 'monomial',\n",
       " 'monomial_or_zero_if_none',\n",
       " 'ngens',\n",
       " 'nonembedded_free_module',\n",
       " 'normalize_names',\n",
       " 'objgen',\n",
       " 'objgens',\n",
       " 'parent',\n",
       " 'quotient',\n",
       " 'quotient_abstract',\n",
       " 'quotient_module',\n",
       " 'random_element',\n",
       " 'rank',\n",
       " 'register_action',\n",
       " 'register_coercion',\n",
       " 'register_conversion',\n",
       " 'register_embedding',\n",
       " 'rename',\n",
       " 'reset_name',\n",
       " 'saturation',\n",
       " 'save',\n",
       " 'scale',\n",
       " 'some_elements',\n",
       " 'span',\n",
       " 'span_of_basis',\n",
       " 'sparse_module',\n",
       " 'submodule',\n",
       " 'submodule_with_basis',\n",
       " 'subspace',\n",
       " 'subspace_with_basis',\n",
       " 'subspaces',\n",
       " 'sum',\n",
       " 'sum_of_monomials',\n",
       " 'sum_of_terms',\n",
       " 'summation',\n",
       " 'summation_from_element_class_add',\n",
       " 'tensor',\n",
       " 'tensor_square',\n",
       " 'term',\n",
       " 'uses_ambient_inner_product',\n",
       " 'variable_name',\n",
       " 'variable_names',\n",
       " 'vector_space',\n",
       " 'vector_space_span',\n",
       " 'vector_space_span_of_basis',\n",
       " 'version',\n",
       " 'zero',\n",
       " 'zero_element',\n",
       " 'zero_submodule',\n",
       " 'zero_subspace',\n",
       " 'zero_vector']"
      ]
     },
     "execution_count": 20,
     "metadata": {},
     "output_type": "execute_result"
    }
   ],
   "source": [
    "[method for method in dir(RRmoduleVecSpace) if method[0] is not '_']"
   ]
  },
  {
   "cell_type": "code",
   "execution_count": 21,
   "metadata": {
    "collapsed": false
   },
   "outputs": [
    {
     "data": {
      "text/html": [
       "<html><script type=\"math/tex; mode=display\">\\newcommand{\\Bold}[1]{\\mathbf{#1}}\\left(\\left[\\left(1.00000000000000,\\,0.000000000000000,\\,0.000000000000000\\right), \\left(0.000000000000000,\\,1.00000000000000,\\,0.000000000000000\\right), \\left(0.000000000000000,\\,0.000000000000000,\\,1.00000000000000\\right)\\right], \\left(\\begin{array}{rrr}\n",
       "1.00000000000000 & 0.000000000000000 & 0.000000000000000 \\\\\n",
       "0.000000000000000 & 1.00000000000000 & 0.000000000000000 \\\\\n",
       "0.000000000000000 & 0.000000000000000 & 1.00000000000000\n",
       "\\end{array}\\right), \\left(\\left(1.00000000000000,\\,0.000000000000000,\\,0.000000000000000\\right), \\left(0.000000000000000,\\,1.00000000000000,\\,0.000000000000000\\right), \\left(0.000000000000000,\\,0.000000000000000,\\,1.00000000000000\\right)\\right)\\right)</script></html>"
      ],
      "text/plain": [
       "(\n",
       "[                                                        \n",
       "(1.00000000000000, 0.000000000000000, 0.000000000000000),\n",
       "(0.000000000000000, 1.00000000000000, 0.000000000000000),\n",
       "(0.000000000000000, 0.000000000000000, 1.00000000000000) \n",
       "]                                                        ,\n",
       "\n",
       "[ 1.00000000000000 0.000000000000000 0.000000000000000]                                                                                                                                                                                \n",
       "[0.000000000000000  1.00000000000000 0.000000000000000]                                                                                                                                                                                \n",
       "[0.000000000000000 0.000000000000000  1.00000000000000], ((1.00000000000000, 0.000000000000000, 0.000000000000000), (0.000000000000000, 1.00000000000000, 0.000000000000000), (0.000000000000000, 0.000000000000000, 1.00000000000000))\n",
       ")"
      ]
     },
     "execution_count": 21,
     "metadata": {},
     "output_type": "execute_result"
    }
   ],
   "source": [
    "RRmoduleVecSpace.basis(), RRmoduleVecSpace.basis_matrix(), RRmoduleVecSpace.gens()"
   ]
  },
  {
   "cell_type": "code",
   "execution_count": 22,
   "metadata": {
    "collapsed": false
   },
   "outputs": [
    {
     "data": {
      "text/html": [
       "<html><script type=\"math/tex; mode=display\">\\newcommand{\\Bold}[1]{\\mathbf{#1}}\\left\\{\\verb|(0.000000000000000,|\\phantom{\\verb!x!}\\verb|0.000000000000000,|\\phantom{\\verb!x!}\\verb|1.00000000000000)| : \\left(0.000000000000000,\\,0.000000000000000,\\,1.00000000000000\\right), \\verb|(0.000000000000000,|\\phantom{\\verb!x!}\\verb|1.00000000000000,|\\phantom{\\verb!x!}\\verb|0.000000000000000)| : \\left(0.000000000000000,\\,1.00000000000000,\\,0.000000000000000\\right), \\verb|(1.00000000000000,|\\phantom{\\verb!x!}\\verb|0.000000000000000,|\\phantom{\\verb!x!}\\verb|0.000000000000000)| : \\left(1.00000000000000,\\,0.000000000000000,\\,0.000000000000000\\right)\\right\\}</script></html>"
      ],
      "text/plain": [
       "{'(0.000000000000000, 0.000000000000000, 1.00000000000000)': (0.000000000000000, 0.000000000000000, 1.00000000000000),\n",
       " '(0.000000000000000, 1.00000000000000, 0.000000000000000)': (0.000000000000000, 1.00000000000000, 0.000000000000000),\n",
       " '(1.00000000000000, 0.000000000000000, 0.000000000000000)': (1.00000000000000, 0.000000000000000, 0.000000000000000)}"
      ]
     },
     "execution_count": 22,
     "metadata": {},
     "output_type": "execute_result"
    }
   ],
   "source": [
    "RRmoduleVecSpace.gens_dict()"
   ]
  },
  {
   "cell_type": "code",
   "execution_count": null,
   "metadata": {
    "collapsed": true
   },
   "outputs": [],
   "source": []
  }
 ],
 "metadata": {
  "kernelspec": {
   "display_name": "SageMath 7.2.rc0",
   "language": "",
   "name": "sagemath"
  },
  "language_info": {
   "codemirror_mode": {
    "name": "ipython",
    "version": 2
   },
   "file_extension": ".py",
   "mimetype": "text/x-python",
   "name": "python",
   "nbconvert_exporter": "python",
   "pygments_lexer": "ipython2",
   "version": "2.7.10"
  }
 },
 "nbformat": 4,
 "nbformat_minor": 0
}
